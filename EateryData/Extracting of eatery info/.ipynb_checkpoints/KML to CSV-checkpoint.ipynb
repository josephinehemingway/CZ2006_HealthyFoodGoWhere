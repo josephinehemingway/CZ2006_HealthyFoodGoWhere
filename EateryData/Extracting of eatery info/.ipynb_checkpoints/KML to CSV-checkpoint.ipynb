{
 "cells": [
  {
   "cell_type": "markdown",
   "metadata": {},
   "source": [
    "# This notebook converts the KML file into CSV file containing the eateries"
   ]
  },
  {
   "cell_type": "code",
   "execution_count": 1,
   "metadata": {},
   "outputs": [],
   "source": [
    "import re\n",
    "from pykml import parser\n",
    "import pandas as pd"
   ]
  },
  {
   "cell_type": "code",
   "execution_count": 2,
   "metadata": {},
   "outputs": [],
   "source": [
    "def getEateryInfo(kmlDescription,requiredFields):\n",
    "    eateryInfo = {}\n",
    "    delimeters = '|'.join([f'({field})'for field in requiredFields])\n",
    "    kmlDescription = re.split(delimeters,str(kmlDescription))\n",
    "    kmlDescription = list(filter(lambda a: a != None, kmlDescription))\n",
    "    for i,obj in enumerate(kmlDescription):\n",
    "        if obj in requiredFields:\n",
    "            eateryInfo[obj]=kmlDescription[i+1].split('</td>')[0].split('<td>')[-1]\n",
    "    return eateryInfo\n",
    "def clean_coordinates_col(coord):\n",
    "    coord = coord.split(',')\n",
    "    return f'{coord[1]},{coord[0]}'\n",
    "def clean_name_col(NAME):\n",
    "    return NAME.split('-')[0]\n",
    "def clean_unit_col(UNIT):\n",
    "    return UNIT.split(',')[0]"
   ]
  },
  {
   "cell_type": "code",
   "execution_count": 3,
   "metadata": {
    "scrolled": true
   },
   "outputs": [
    {
     "ename": "FileNotFoundError",
     "evalue": "[Errno 2] No such file or directory: 'C:\\\\Users\\\\tanch\\\\Documents\\\\NTU Year 2\\\\Sem 2\\\\CZ2006, Software Engineering\\\\Project codes\\\\Data\\\\healthier-eateries.kml'",
     "output_type": "error",
     "traceback": [
      "\u001b[1;31m---------------------------------------------------------------------------\u001b[0m",
      "\u001b[1;31mFileNotFoundError\u001b[0m                         Traceback (most recent call last)",
      "\u001b[1;32m<ipython-input-3-44ca210da1b4>\u001b[0m in \u001b[0;36m<module>\u001b[1;34m\u001b[0m\n\u001b[0;32m      1\u001b[0m \u001b[0mfilename\u001b[0m\u001b[1;33m=\u001b[0m\u001b[1;34mr\"C:\\Users\\tanch\\Documents\\NTU Year 2\\Sem 2\\CZ2006, Software Engineering\\Project codes\\Data\\healthier-eateries.kml\"\u001b[0m\u001b[1;33m\u001b[0m\u001b[1;33m\u001b[0m\u001b[0m\n\u001b[1;32m----> 2\u001b[1;33m \u001b[1;32mwith\u001b[0m \u001b[0mopen\u001b[0m\u001b[1;33m(\u001b[0m\u001b[0mfilename\u001b[0m\u001b[1;33m)\u001b[0m \u001b[1;32mas\u001b[0m \u001b[0mf\u001b[0m\u001b[1;33m:\u001b[0m\u001b[1;33m\u001b[0m\u001b[1;33m\u001b[0m\u001b[0m\n\u001b[0m\u001b[0;32m      3\u001b[0m     \u001b[0mfolder\u001b[0m \u001b[1;33m=\u001b[0m \u001b[0mparser\u001b[0m\u001b[1;33m.\u001b[0m\u001b[0mparse\u001b[0m\u001b[1;33m(\u001b[0m\u001b[0mf\u001b[0m\u001b[1;33m)\u001b[0m\u001b[1;33m.\u001b[0m\u001b[0mgetroot\u001b[0m\u001b[1;33m(\u001b[0m\u001b[1;33m)\u001b[0m\u001b[1;33m.\u001b[0m\u001b[0mDocument\u001b[0m\u001b[1;33m.\u001b[0m\u001b[0mFolder\u001b[0m\u001b[1;33m\u001b[0m\u001b[1;33m\u001b[0m\u001b[0m\n\u001b[0;32m      4\u001b[0m \u001b[1;33m\u001b[0m\u001b[0m\n\u001b[0;32m      5\u001b[0m \u001b[0mrequiredFields\u001b[0m \u001b[1;33m=\u001b[0m \u001b[1;33m[\u001b[0m\u001b[1;34m'ADDRESSBLOCKHOUSENUMBER'\u001b[0m\u001b[1;33m,\u001b[0m\u001b[1;34m'ADDRESSBUILDINGNAME'\u001b[0m\u001b[1;33m,\u001b[0m\u001b[1;34m'ADDRESSPOSTALCODE'\u001b[0m\u001b[1;33m,\u001b[0m\u001b[1;34m'ADDRESSSTREETNAME'\u001b[0m\u001b[1;33m,\u001b[0m\u001b[1;34m'NAME'\u001b[0m\u001b[1;33m,\u001b[0m\u001b[1;34m'ADDRESSFLOORNUMBER'\u001b[0m\u001b[1;33m,\u001b[0m\u001b[1;34m'ADDRESSUNITNUMBER'\u001b[0m\u001b[1;33m]\u001b[0m\u001b[1;33m\u001b[0m\u001b[1;33m\u001b[0m\u001b[0m\n",
      "\u001b[1;31mFileNotFoundError\u001b[0m: [Errno 2] No such file or directory: 'C:\\\\Users\\\\tanch\\\\Documents\\\\NTU Year 2\\\\Sem 2\\\\CZ2006, Software Engineering\\\\Project codes\\\\Data\\\\healthier-eateries.kml'"
     ]
    }
   ],
   "source": [
    "filename=r\"C:\\Users\\tanch\\AndroidStudioProjects\\cz2006_app\\EateryData\\healthier-eateries.kml\"\n",
    "with open(filename) as f:\n",
    "    folder = parser.parse(f).getroot().Document.Folder\n",
    "    \n",
    "requiredFields = ['ADDRESSBLOCKHOUSENUMBER','ADDRESSBUILDINGNAME','ADDRESSPOSTALCODE','ADDRESSSTREETNAME','NAME','ADDRESSFLOORNUMBER','ADDRESSUNITNUMBER']\n",
    "\n",
    "cordi=[]\n",
    "db=pd.DataFrame()\n",
    "for pm in folder.Placemark:\n",
    "    plcs1=pm.Point.coordinates\n",
    "    cordi.append(plcs1.text)\n",
    "    db = db.append(getEateryInfo(pm.description,requiredFields),ignore_index=True)\n",
    "db['coordinates']=cordi\n",
    "db['coordinates'] = db.coordinates.apply(clean_coordinates_col)\n",
    "db['NAME'] = db.NAME.apply(clean_name_col)\n",
    "db['ADDRESSUNITNUMBER'] = db.ADDRESSUNITNUMBER.apply(clean_unit_col)\n",
    "db.rename(columns = {'NAME':'name'},inplace=True)\n",
    "db['address'] = db.ADDRESSBUILDINGNAME+' '+db.ADDRESSSTREETNAME+' #'+db.ADDRESSFLOORNUMBER+'-'+db.ADDRESSUNITNUMBER+' Singapore '+db.ADDRESSPOSTALCODE"
   ]
  },
  {
   "cell_type": "code",
   "execution_count": null,
   "metadata": {},
   "outputs": [],
   "source": [
    "db[['latitude','longitude']] = db['coordinates'].str.split(',',1,expand =True)"
   ]
  },
  {
   "cell_type": "code",
   "execution_count": 5,
   "metadata": {},
   "outputs": [],
   "source": [
    "relevant_col = ['name','address','latitude','longitude']"
   ]
  },
  {
   "cell_type": "code",
   "execution_count": 6,
   "metadata": {},
   "outputs": [],
   "source": [
    "db[relevant_col].to_csv(r'C:\\Users\\tanch\\Documents\\NTU Year 2\\Sem 2\\CZ2006, Software Engineering\\Project codes\\Data\\HealthyEateries.csv',index = False)"
   ]
  },
  {
   "cell_type": "code",
   "execution_count": 7,
   "metadata": {},
   "outputs": [
    {
     "data": {
      "text/html": [
       "<div>\n",
       "<style scoped>\n",
       "    .dataframe tbody tr th:only-of-type {\n",
       "        vertical-align: middle;\n",
       "    }\n",
       "\n",
       "    .dataframe tbody tr th {\n",
       "        vertical-align: top;\n",
       "    }\n",
       "\n",
       "    .dataframe thead th {\n",
       "        text-align: right;\n",
       "    }\n",
       "</style>\n",
       "<table border=\"1\" class=\"dataframe\">\n",
       "  <thead>\n",
       "    <tr style=\"text-align: right;\">\n",
       "      <th></th>\n",
       "      <th>name</th>\n",
       "      <th>address</th>\n",
       "      <th>latitude</th>\n",
       "      <th>longitude</th>\n",
       "    </tr>\n",
       "  </thead>\n",
       "  <tbody>\n",
       "    <tr>\n",
       "      <th>0</th>\n",
       "      <td>McDonald's</td>\n",
       "      <td>Bugis Junction Victoria Street #1-K5 Singapore...</td>\n",
       "      <td>1.29911316126836</td>\n",
       "      <td>103.855411151136</td>\n",
       "    </tr>\n",
       "    <tr>\n",
       "      <th>1</th>\n",
       "      <td>McDonald's</td>\n",
       "      <td>Bugis Village Rochor Road #1-42 Singapore 188426</td>\n",
       "      <td>1.30089884539002</td>\n",
       "      <td>103.855242173644</td>\n",
       "    </tr>\n",
       "    <tr>\n",
       "      <th>2</th>\n",
       "      <td>McDonald's</td>\n",
       "      <td>Bukit Batok Central #1-10 Singapore 650632</td>\n",
       "      <td>1.34941218045919</td>\n",
       "      <td>103.750538659689</td>\n",
       "    </tr>\n",
       "    <tr>\n",
       "      <th>3</th>\n",
       "      <td>McDonald's</td>\n",
       "      <td>Bukit Batok Street 11 #1-451 Singapore 650152</td>\n",
       "      <td>1.34830189004312</td>\n",
       "      <td>103.744257269677</td>\n",
       "    </tr>\n",
       "    <tr>\n",
       "      <th>4</th>\n",
       "      <td>McDonald's</td>\n",
       "      <td>Bukit Batok Street 31 #1-27 Singapore 650374</td>\n",
       "      <td>1.35809927236864</td>\n",
       "      <td>103.750719677477</td>\n",
       "    </tr>\n",
       "    <tr>\n",
       "      <th>...</th>\n",
       "      <td>...</td>\n",
       "      <td>...</td>\n",
       "      <td>...</td>\n",
       "      <td>...</td>\n",
       "    </tr>\n",
       "    <tr>\n",
       "      <th>1805</th>\n",
       "      <td>Partea</td>\n",
       "      <td>OUE Downtown Gallery Shenton Way #3-29 Singapo...</td>\n",
       "      <td>1.27698070007554</td>\n",
       "      <td>103.848408637443</td>\n",
       "    </tr>\n",
       "    <tr>\n",
       "      <th>1806</th>\n",
       "      <td>Partea</td>\n",
       "      <td>Changi Airport Terminal 4 Airport Boulevard #2...</td>\n",
       "      <td>1.33800813358939</td>\n",
       "      <td>103.983482808095</td>\n",
       "    </tr>\n",
       "    <tr>\n",
       "      <th>1807</th>\n",
       "      <td>Foreword Coffee</td>\n",
       "      <td>Centre for Health Innovation Jalan Tan Tock Se...</td>\n",
       "      <td>1.3213972195699</td>\n",
       "      <td>103.847798226388</td>\n",
       "    </tr>\n",
       "    <tr>\n",
       "      <th>1808</th>\n",
       "      <td>Foreword Coffee</td>\n",
       "      <td>Civil Service College North Buona Vista Road #...</td>\n",
       "      <td>1.30962959457179</td>\n",
       "      <td>103.791802737643</td>\n",
       "    </tr>\n",
       "    <tr>\n",
       "      <th>1809</th>\n",
       "      <td>Foreword Coffee</td>\n",
       "      <td>Temasek Shophouse Orchard Road #1- Singapore 2...</td>\n",
       "      <td>1.29910241372482</td>\n",
       "      <td>103.846540380379</td>\n",
       "    </tr>\n",
       "  </tbody>\n",
       "</table>\n",
       "<p>1810 rows × 4 columns</p>\n",
       "</div>"
      ],
      "text/plain": [
       "                  name                                            address  \\\n",
       "0          McDonald's   Bugis Junction Victoria Street #1-K5 Singapore...   \n",
       "1          McDonald's    Bugis Village Rochor Road #1-42 Singapore 188426   \n",
       "2          McDonald's          Bukit Batok Central #1-10 Singapore 650632   \n",
       "3          McDonald's       Bukit Batok Street 11 #1-451 Singapore 650152   \n",
       "4          McDonald's        Bukit Batok Street 31 #1-27 Singapore 650374   \n",
       "...                ...                                                ...   \n",
       "1805           Partea   OUE Downtown Gallery Shenton Way #3-29 Singapo...   \n",
       "1806           Partea   Changi Airport Terminal 4 Airport Boulevard #2...   \n",
       "1807  Foreword Coffee   Centre for Health Innovation Jalan Tan Tock Se...   \n",
       "1808  Foreword Coffee   Civil Service College North Buona Vista Road #...   \n",
       "1809  Foreword Coffee   Temasek Shophouse Orchard Road #1- Singapore 2...   \n",
       "\n",
       "              latitude         longitude  \n",
       "0     1.29911316126836  103.855411151136  \n",
       "1     1.30089884539002  103.855242173644  \n",
       "2     1.34941218045919  103.750538659689  \n",
       "3     1.34830189004312  103.744257269677  \n",
       "4     1.35809927236864  103.750719677477  \n",
       "...                ...               ...  \n",
       "1805  1.27698070007554  103.848408637443  \n",
       "1806  1.33800813358939  103.983482808095  \n",
       "1807   1.3213972195699  103.847798226388  \n",
       "1808  1.30962959457179  103.791802737643  \n",
       "1809  1.29910241372482  103.846540380379  \n",
       "\n",
       "[1810 rows x 4 columns]"
      ]
     },
     "execution_count": 7,
     "metadata": {},
     "output_type": "execute_result"
    }
   ],
   "source": [
    "db[relevant_col]"
   ]
  },
  {
   "cell_type": "code",
   "execution_count": null,
   "metadata": {},
   "outputs": [],
   "source": []
  }
 ],
 "metadata": {
  "kernelspec": {
   "display_name": "Python 3",
   "language": "python",
   "name": "python3"
  },
  "language_info": {
   "codemirror_mode": {
    "name": "ipython",
    "version": 3
   },
   "file_extension": ".py",
   "mimetype": "text/x-python",
   "name": "python",
   "nbconvert_exporter": "python",
   "pygments_lexer": "ipython3",
   "version": "3.8.3"
  }
 },
 "nbformat": 4,
 "nbformat_minor": 4
}
